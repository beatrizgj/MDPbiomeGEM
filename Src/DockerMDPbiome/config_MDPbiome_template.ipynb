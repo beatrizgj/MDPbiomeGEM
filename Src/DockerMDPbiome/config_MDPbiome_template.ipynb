{
 "cells": [
  {
   "cell_type": "code",
   "execution_count": null,
   "metadata": {},
   "outputs": [],
   "source": [
    "# REQUIRED INPUT\n",
    "# data.norm.sub_phyloseqObject.RData: phyloseq object including \n",
    "# Perturbations variable in sample_data"
   ]
  },
  {
   "cell_type": "code",
   "execution_count": null,
   "metadata": {},
   "outputs": [],
   "source": [
    "###USER-INTERACTION###\n",
    "# Cells with this header require user interaction, or adaptation \n",
    "# of the code to the specific case study."
   ]
  },
  {
   "cell_type": "code",
   "execution_count": null,
   "metadata": {},
   "outputs": [],
   "source": [
    "# Load packages and functions\n",
    "source(\"robust.clustering.metagenomics.functions.r\")"
   ]
  },
  {
   "cell_type": "code",
   "execution_count": null,
   "metadata": {},
   "outputs": [],
   "source": [
    "###USER-INTERACTION###\n",
    "# Define suffix for the current case study files\n",
    "labelExp <- \"CommunityExample\" # For example: BifFae\n",
    "setwd(labelExp)"
   ]
  },
  {
   "cell_type": "code",
   "execution_count": null,
   "metadata": {},
   "outputs": [],
   "source": [
    "###USER-INTERACTION###\n",
    "# Define variables name from sampling table of phyloseq object\n",
    "# Sample attribute for time points\n",
    "stepVar <- \"time\"\n",
    "# Sample attribute for subject \n",
    "subjectVar <- \"subject\""
   ]
  },
  {
   "cell_type": "code",
   "execution_count": null,
   "metadata": {},
   "outputs": [],
   "source": [
    "# Run robust clustering for up to 10 clusters\n",
    "dir.create('RobustClustering')\n",
    "file.copy('data.norm.sub_phyloseqObject.RData','RobustClustering/',copy.date=TRUE,overwrite=TRUE)\n",
    "robust.clustering.all.steps('RobustClustering','data.norm.sub_phyloseqObject.RData',labelExp,stepVar,maxClus=10)"
   ]
  },
  {
   "cell_type": "code",
   "execution_count": null,
   "metadata": {},
   "outputs": [],
   "source": [
    "# Print state time serie, per subject\n",
    "setwd(paste('RobustClustering/',labelExp,'_all/',sep=''))\n",
    "fout <- paste('data.normAndDist_definitiveClustering_',labelExp,'.RData',sep='')\n",
    "file.copy(fout,'../..',copy.date=TRUE,overwrite=TRUE)\n",
    "load(fout)\n",
    "table(sample_data(data.norm)$cluster)\n",
    "tableSerie <- stateSerieTable(data.norm, stepVar, subjectId = subjectVar)\n",
    "timeSerieHeatMap(tableSerie, \"./\", paste('statesSequence_all',labelExp,\".pdf\",sep=''))\n",
    "setwd('../..')"
   ]
  },
  {
   "cell_type": "code",
   "execution_count": null,
   "metadata": {},
   "outputs": [],
   "source": [
    "###USER-INTERACTION###\n",
    "# To compute the cluster, when you decide a fix number of them,\n",
    "# to adapt better to the case study characteristics.\n",
    "# Example with k=3\n",
    "k=3\n",
    "dir.create(paste('RobustClustering_k',k,sep=''))\n",
    "file.copy('data.norm.sub_phyloseqObject.RData',paste('RobustClustering_k',k,sep=''),copy.date=TRUE,overwrite=TRUE)\n",
    "robust.clustering.all.steps(paste('RobustClustering_k',k,sep=''),'data.norm.sub_phyloseqObject.RData',labelExp,'time',minClus=k,maxClus=k)\n",
    "setwd(paste('RobustClustering_k',k,'/',labelExp,'_all/',sep=''))\n",
    "fout <- paste('data.normAndDist_definitiveClustering_',labelExp,'.RData',sep='')\n",
    "file.copy(fout,'../..',copy.date=TRUE,overwrite=TRUE)\n",
    "load(fout)\n",
    "table(sample_data(data.norm)$cluster)\n",
    "tableSerie <- stateSerieTable(data.norm, stepVar, subjectId = subjectVar)\n",
    "timeSerieHeatMap(tableSerie, \"./\", paste('statesSequence_all',labelExp,\".pdf\",sep=''))\n",
    "setwd('../..')"
   ]
  },
  {
   "cell_type": "code",
   "execution_count": null,
   "metadata": {},
   "outputs": [],
   "source": [
    "# Starting MDPbiome\n",
    "dir.create('MDPbiome')\n",
    "file.copy('../MDPbiome_template/','.',copy.date=TRUE,recursive=TRUE,overwrite=TRUE)\n",
    "file.rename('MDPbiome_template','MDPbiome')\n",
    "file.copy(paste('data.normAndDist_definitiveClustering_',labelExp,'.RData',sep=''),'MDPbiome/Data/',copy.date=TRUE,overwrite=TRUE)"
   ]
  },
  {
   "cell_type": "code",
   "execution_count": null,
   "metadata": {},
   "outputs": [],
   "source": [
    "# Load MDPbiome sources\n",
    "setwd('MDPbiome/Src/')\n",
    "source(\"initMDPBiome.R\")\n",
    "dirdata <- \"../Data/\"\n",
    "setwd(dirdata)"
   ]
  },
  {
   "cell_type": "code",
   "execution_count": null,
   "metadata": {},
   "outputs": [],
   "source": [
    "# Read OTU and mapping table\n",
    "phyloObject_datafile <- paste('data.normAndDist_definitiveClustering_',labelExp,'.RData', sep = \"\")\n",
    "load(phyloObject_datafile)"
   ]
  },
  {
   "cell_type": "code",
   "execution_count": null,
   "metadata": {},
   "outputs": [],
   "source": [
    "###USER-INTERACTION###\n",
    "# Rename clusters for clarity\n",
    "levels(sample_data(data.norm)$cluster) <- c(\"dysbiosis\",\"risky\",\"healthy\")"
   ]
  },
  {
   "cell_type": "code",
   "execution_count": null,
   "metadata": {},
   "outputs": [],
   "source": [
    "# Rename perturbations field for clarity\n",
    "sample_data(data.norm)$pert <- as.character(sample_data(data.norm)$Perturbations)\n",
    "Perturbations <- c('pert') # Only 1 perturbation, with different values"
   ]
  },
  {
   "cell_type": "code",
   "execution_count": null,
   "metadata": {},
   "outputs": [],
   "source": [
    "# Associate perturbation to the sample it results in, rather than to \n",
    "# the state where it is applied. To be the same than in microbiome\n",
    "# sampling, where the mapping value of the perturbations is associated\n",
    "# to the sample after the perturbation was applied.\n",
    "for(subject in unique(get_variable(data.norm,subjectVar))){\n",
    "  subject.data <- phyloSubset(data.norm, subjectVar, subject)\n",
    "  vectPert <- NULL\n",
    "  vectPert <- get_variable(subject.data,'pert')\n",
    "  newVecPert <- c('NA',vectPert[1:(length(vectPert)-1)])\n",
    "  sample_data(data.norm)[sample_names(subject.data), \"pert\"] <- newVecPert\n",
    "} # end-for move perturbation"
   ]
  },
  {
   "cell_type": "code",
   "execution_count": null,
   "metadata": {},
   "outputs": [],
   "source": [
    "# Generic functions that could be useful for compute Utility Function\n",
    "# Mainly useful in MDPbiomeGEM (simulated data with GEM)\n",
    "concMetabolite <- function(phyloObj,subjectVar, subject, met){\n",
    "  subject.data <- phyloSubset(phyloObj, subjectVar, subject)\n",
    "  # concentrations <- get_variable(subject.data,met) # vector\n",
    "  concentrations <- sample_data(subject.data)[,c(met)] # sample_data structure\n",
    "  return(concentrations)\n",
    "}\n",
    "# Compute mean of utility variable in all samples of a given cluster\n",
    "clusterUtilityFunction <- function(clusterId){\n",
    "  cluster.data <- phyloSubset(data.norm, \"cluster\", clusterId)\n",
    "  scores <- get_variable(cluster.data,goalVar)\n",
    "  return(mean(scores))\n",
    "}"
   ]
  },
  {
   "cell_type": "code",
   "execution_count": null,
   "metadata": {},
   "outputs": [],
   "source": [
    "###USER-INTERACTION###  \n",
    "# To define name utility function\n",
    "# Ex: To maximize concentration of butyrate\n",
    "goalVar <- \"SCFAincrease\"\n",
    "# To compute utility function\n",
    "# Each sample must have a <goalVar> variable in the sample_data phyloseq\n",
    "# object (that clusterUtilityFunction() will use). It could be fill in\n",
    "# following the next example.\n",
    "# Example:\n",
    "metName <- 'Butyrate_C4H8O2'\n",
    "subjects <- unique(get_variable(data.norm,'subject'))\n",
    "for (isubject in subjects){\n",
    "  vecConc <- concMetabolite(data.norm,subjectVar,isubject,metName)\n",
    "  newVec <- as.numeric(rep(0,nsamples(vecConc)))\n",
    "  for(pos in 2:(nsamples(vecConc))){\n",
    "    newVec[pos] <- get_variable(vecConc[pos],metName) - get_variable(vecConc[pos-1],metName)\n",
    "  } # end-for pos\n",
    "  sample_data(data.norm)[sample_names(vecConc), goalVar] <- newVec\n",
    "} # end-for isubject"
   ]
  },
  {
   "cell_type": "code",
   "execution_count": null,
   "metadata": {},
   "outputs": [],
   "source": [
    "print('>> Utility Function by state:')\n",
    "# Print computed values about change in utility function;\n",
    "# here, a metabolite concentration\n",
    "for (state in levels(sample_data(data.norm)$cluster)){\n",
    "  ss=subset_samples(subset_samples(data.norm,(cluster==state)),pert!='NA')\n",
    "  avg=mean(get_variable(ss,goalVar))\n",
    "  print(paste(goalVar,state,':',avg))\n",
    "} # end-for state"
   ]
  },
  {
   "cell_type": "code",
   "execution_count": null,
   "metadata": {},
   "outputs": [],
   "source": [
    "print('>> Utility Function by perturbation:')\n",
    "sample_data(data.norm)$pert=as.factor(sample_data(data.norm)$pert)\n",
    "for (p in levels(sample_data(data.norm)$pert)){\n",
    "  ss=subset_samples(data.norm,(pert==p))\n",
    "  avg=mean(get_variable(ss,goalVar))\n",
    "  print(paste(p,'(',nsamples(ss), 'samples)',':',avg))\n",
    "} # end-for perturbation"
   ]
  },
  {
   "cell_type": "code",
   "execution_count": null,
   "metadata": {},
   "outputs": [],
   "source": [
    "###USER-INTERACTION###\n",
    "# To assign cluster preferences if expert knowledge available\n",
    "# cluster_preference <- c(0,0,1)"
   ]
  },
  {
   "cell_type": "code",
   "execution_count": null,
   "metadata": {},
   "outputs": [],
   "source": [
    "# Compute vector of states (i.e. cluster) preferences\n",
    "states <- levels(sample_data(data.norm)$cluster)\n",
    "goal_preference <- sapply(states, clusterUtilityFunction)\n",
    "cluster_preference <- goal_preference"
   ]
  },
  {
   "cell_type": "code",
   "execution_count": null,
   "metadata": {},
   "outputs": [],
   "source": [
    "save(data.norm,goal_preference,file='data.normAfterConfigMDPbiomePreprocess.RData')\n",
    "tableSerie <- stateSerieTable(data.norm, stepVar, subjectId = subjectVar)\n",
    "timeSerieHeatMap(tableSerie, \"./\", \"statesSequence_allSamples.pdf\")"
   ]
  },
  {
   "cell_type": "code",
   "execution_count": null,
   "metadata": {},
   "outputs": [],
   "source": [
    "createTreeDir(dirdata,Perturbations)\n",
    "options(max.print = 9999999)\n",
    "# Build model and compute stability evaluation\n",
    "mdpBiomeBase(goalDiversity=FALSE, utilityVar=goalVar) "
   ]
  },
  {
   "cell_type": "code",
   "execution_count": null,
   "metadata": {},
   "outputs": [],
   "source": [
    "###USER-INTERACTION###\n",
    "# Compute generality evaluation\n",
    "# It is mandatory to define rewardType (\"preferGood\", \"avoidBad\" or \"proportional\")\n",
    "titledata=labelExp\n",
    "mdpBiomeLoocv(goal_preference=cluster_preference,rewardType=\"avoidBad\",goalVar=goalVar)\n",
    "# It usually takes a long time to finish (10-30 minutes), mainly depending \n",
    "# on the number of subjects"
   ]
  },
  {
   "cell_type": "code",
   "execution_count": null,
   "metadata": {},
   "outputs": [],
   "source": [
    "# ALTERNATIVE RUN\n",
    "### Re-run MDPbiome, when the preprocess R data was saved before\n",
    "setwd('../Src')\n",
    "source(\"initMDPBiome.R\")\n",
    "dirdata <- \"../Data/\"\n",
    "labelExp <- \"community1\"\n",
    "setwd(dirdata)\n",
    "load('data.normAfterConfigMDPbiomePreprocess.RData')\n",
    "Perturbations <- c('pert')\n",
    "stepVar <- \"time\"\n",
    "subjectVar <- \"subject\"\n",
    "cluster_preference <- goal_preference\n",
    "createTreeDir(dirdata,Perturbations)\n",
    "options(max.print = 9999999)\n",
    "mdpBiomeBase(goalDiversity=FALSE, utilityVar=goalVar)\n"
   ]
  }
 ],
 "metadata": {
  "kernelspec": {
   "display_name": "R",
   "language": "R",
   "name": "ir"
  },
  "language_info": {
   "codemirror_mode": "r",
   "file_extension": ".r",
   "mimetype": "text/x-r-source",
   "name": "R",
   "pygments_lexer": "r",
   "version": "3.4.4"
  }
 },
 "nbformat": 4,
 "nbformat_minor": 2
}
