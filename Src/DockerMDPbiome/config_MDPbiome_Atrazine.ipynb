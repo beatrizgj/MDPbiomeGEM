{
 "cells": [
  {
   "cell_type": "code",
   "execution_count": null,
   "metadata": {},
   "outputs": [],
   "source": [
    "# REQUIRED INPUT\n",
    "# data.norm.sub_phyloseqObject.RData: phyloseq object including \n",
    "# Perturbations variable in sample_data"
   ]
  },
  {
   "cell_type": "code",
   "execution_count": null,
   "metadata": {},
   "outputs": [],
   "source": [
    "###USER-INTERACTION###\n",
    "# Cells with this header require user interaction, or adaptation \n",
    "# of the code to the specific case study."
   ]
  },
  {
   "cell_type": "code",
   "execution_count": null,
   "metadata": {},
   "outputs": [],
   "source": [
    "# Load packages and functions\n",
    "source(\"robust.clustering.metagenomics.functions.r\")"
   ]
  },
  {
   "cell_type": "code",
   "execution_count": null,
   "metadata": {},
   "outputs": [],
   "source": [
    "###USER-INTERACTION###\n",
    "# Define suffix for the current case study files\n",
    "labelExp <- \"Atrazine\" \n",
    "setwd(labelExp)"
   ]
  },
  {
   "cell_type": "code",
   "execution_count": null,
   "metadata": {},
   "outputs": [],
   "source": [
    "###USER-INTERACTION###\n",
    "# Define variables name from sampling table of phyloseq object\n",
    "# Sample attribute for time points\n",
    "stepVar <- \"time\"\n",
    "# Sample attribute for subject \n",
    "subjectVar <- \"subject\""
   ]
  },
  {
   "cell_type": "code",
   "execution_count": null,
   "metadata": {},
   "outputs": [],
   "source": [
    "# Run robust clustering for up to 10 clusters\n",
    "dir.create('RobustClustering')\n",
    "file.copy('data.norm.sub_phyloseqObject.RData','RobustClustering/',copy.date=TRUE,overwrite=TRUE)\n",
    "robust.clustering.all.steps('RobustClustering','data.norm.sub_phyloseqObject.RData',labelExp,stepVar,maxClus=10)"
   ]
  },
  {
   "cell_type": "code",
   "execution_count": null,
   "metadata": {},
   "outputs": [],
   "source": [
    "# Print state time serie, per subject\n",
    "setwd(paste('RobustClustering/',labelExp,'_all/',sep=''))\n",
    "fout <- paste('data.normAndDist_definitiveClustering_',labelExp,'.RData',sep='')\n",
    "file.copy(fout,'../..',copy.date=TRUE,overwrite=TRUE)\n",
    "load(fout)\n",
    "table(sample_data(data.norm)$cluster)\n",
    "tableSerie <- stateSerieTable(data.norm, stepVar, subjectId = subjectVar)\n",
    "timeSerieHeatMap(tableSerie, \"./\", paste('statesSequence_all',labelExp,\".pdf\",sep=''))\n",
    "setwd('../..')"
   ]
  },
  {
   "cell_type": "code",
   "execution_count": null,
   "metadata": {},
   "outputs": [],
   "source": [
    "# Starting MDPbiome\n",
    "dir.create('MDPbiome')\n",
    "file.copy('../MDPbiome_template/','.',copy.date=TRUE,recursive=TRUE,overwrite=TRUE)\n",
    "file.rename('MDPbiome_template','MDPbiome')\n",
    "file.copy(paste('data.normAndDist_definitiveClustering_',labelExp,'.RData',sep=''),'MDPbiome/Data/',copy.date=TRUE,overwrite=TRUE)"
   ]
  },
  {
   "cell_type": "code",
   "execution_count": null,
   "metadata": {},
   "outputs": [],
   "source": [
    "# Load MDPbiome sources\n",
    "setwd('MDPbiome/Src/')\n",
    "source(\"initMDPBiome.R\")\n",
    "dirdata <- \"../Data/\"\n",
    "setwd(dirdata)"
   ]
  },
  {
   "cell_type": "code",
   "execution_count": null,
   "metadata": {},
   "outputs": [],
   "source": [
    "# Read OTU and mapping table\n",
    "phyloObject_datafile <- paste('data.normAndDist_definitiveClustering_',labelExp,'.RData', sep = \"\")\n",
    "load(phyloObject_datafile)"
   ]
  },
  {
   "cell_type": "code",
   "execution_count": null,
   "metadata": {},
   "outputs": [],
   "source": [
    "###USER-INTERACTION###\n",
    "# Ad-hoc computations in atrazine case study:\n",
    "# because clusters are computed with intermediate time points (without \n",
    "# START and END), but the remaining time points are now required to \n",
    "# compute utility function.\n",
    "# IMPORTANT: It is required to differentiate atrazine in intermediate\n",
    "# perturbations from final perturbation? In some point, after computing\n",
    "# atrazine degradation, only samples from T1 and T6 (start and end samples \n",
    "# from intermediate perturbation) must be preserved, and the remaining\n",
    "# ignored. Then, we can differentiate the samples by seq_id within the \n",
    "# same subject (samples.id ending in 02-05, ignoring 01 (START) and \n",
    "# 06 (END)), but only take into account perturbations associated to \n",
    "# state 02-05.\n",
    "\n",
    "# Cluster values in a sample_data with only 1 variable, and preserving \n",
    "# the sample ID.\n",
    "sample.data.clusters=subset(sample_data(data.norm),select='cluster')\n",
    "# Copy file with all samples\n",
    "file.copy('../../data.norm.sub_phyloseqObject.Rdata','.',copy.date=TRUE)\n",
    "load('data.norm.sub_phyloseqObject.Rdata')\n",
    "data.norm.both=merge_phyloseq(data.norm,sample.data.clusters)\n",
    "data.norm=data.norm.both\n",
    "rm(data.norm.both)\n",
    "\n",
    "# Add a new variable, to differentiate sample of the same subject by\n",
    "# its position in the time series, i.e. the sequence ID\n",
    "for(sample in sample_names(data.norm)){\n",
    "  seq=unlist(strsplit(sample,'_'))[3]\n",
    "  sample_data(data.norm)[sample,'seqId'] <- seq\n",
    "}\n",
    "\n",
    "# Rename clusters for clarity\n",
    "# Ex: levels(sample_data(data.norm)$cluster) <- c(\"dysbiosis\",\"risky\",\"healthy\")"
   ]
  },
  {
   "cell_type": "code",
   "execution_count": null,
   "metadata": {},
   "outputs": [],
   "source": [
    "# Rename perturbations field for clarity\n",
    "# Ad-hoc atrazine renames\n",
    "vecPertShort=c()\n",
    "for(p in levels(sample_data(data.norm)$Perturbations)){\n",
    "  pnew <- switch(p, \"Halobacillus_sp\" = \"Hb\", \"H. stevensii\" = \"Hm\", \"Halobacillus_sp_H. stevensii\" = \"Hb-Hm\", \"ROOT_EXUDATE\" = \"START_exudate\", \"START\" = \"START_min\", \"PHOSPHATE\" = \"H3PO4\", tolower(p))\n",
    "  vecPertShort  <- c(vecPertShort,pnew)\n",
    "}\n",
    "sample_data(data.norm)$pert <- sample_data(data.norm)$Perturbations\n",
    "levels(sample_data(data.norm)$pert) <- vecPertShort\n",
    "sample_data(data.norm)$pert <- as.character(sample_data(data.norm)$pert)\n",
    "# Rename perturbations with an easier nomenclature\n",
    "Perturbations <- c('pert') # Only 1 perturbation, with different values"
   ]
  },
  {
   "cell_type": "code",
   "execution_count": null,
   "metadata": {},
   "outputs": [],
   "source": [
    "# Associate perturbation to the sample it results in, rather than to \n",
    "# the state where it is applied. To be the same than in microbiome\n",
    "# sampling, where the mapping value of the perturbations is associated\n",
    "# to the sample after the perturbation was applied.\n",
    "for(subject in unique(get_variable(data.norm,subjectVar))){\n",
    "  subject.data <- phyloSubset(data.norm, subjectVar, subject)\n",
    "  vectPert <- NULL\n",
    "  vectPert <- get_variable(subject.data,'pert')\n",
    "  newVecPert <- c('NA',vectPert[1:(length(vectPert)-1)])\n",
    "  sample_data(data.norm)[sample_names(subject.data), \"pert\"] <- newVecPert\n",
    "} # end-for move perturbation"
   ]
  },
  {
   "cell_type": "code",
   "execution_count": null,
   "metadata": {},
   "outputs": [],
   "source": [
    "# Generic functions that could be useful for compute Utility Function\n",
    "# Mainly useful in MDPbiomeGEM (simulated data with GEM)\n",
    "concMetabolite <- function(phyloObj,subjectVar, subject, met){\n",
    "  subject.data <- phyloSubset(phyloObj, subjectVar, subject)\n",
    "  # concentrations <- get_variable(subject.data,met) # vector\n",
    "  concentrations <- sample_data(subject.data)[,c(met)] # sample_data structure\n",
    "  return(concentrations)\n",
    "}\n",
    "# Compute mean of utility variable in all samples of a given cluster\n",
    "clusterUtilityFunction <- function(clusterId){\n",
    "  cluster.data <- phyloSubset(data.norm, \"cluster\", clusterId)\n",
    "  scores <- get_variable(cluster.data,goalVar)\n",
    "  return(mean(scores))\n",
    "}"
   ]
  },
  {
   "cell_type": "code",
   "execution_count": null,
   "metadata": {},
   "outputs": [],
   "source": [
    "###USER-INTERACTION###  \n",
    "# To define name utility function\n",
    "# Ex: To maximize concentration of butyrate\n",
    "goalVar <- \"AtrazineDegradation\"\n",
    "# To compute utility function\n",
    "# Each sample must have a <goalVar> variable in the sample_data phyloseq\n",
    "# object (that clusterUtilityFunction() will use). It could be fill in\n",
    "# following the next example.\n",
    "# Example:\n",
    "metName <- 'cpd03959_e0'\n",
    "subjects <- unique(get_variable(data.norm,'subject'))\n",
    "for (isubject in subjects){\n",
    "  print(isubject)\n",
    "  vecConc <- concMetabolite(data.norm,subjectVar,isubject,metName)\n",
    "  newVec <- as.numeric(rep(0,nsamples(vecConc)))\n",
    "  for(pos in 2:nsamples(vecConc)){ # pos=2: to ignore T1 (START)\n",
    "    if(pos<nsamples(vecConc)){ # to ignore T6 (END)\n",
    "      concIni <- get_variable(vecConc[pos],metName)\n",
    "      concFin <- get_variable(vecConc[pos+1],metName)\n",
    "      subject.data <- phyloSubset(data.norm,subjectVar,isubject)\n",
    "      vecPert <- get_variable(subject.data,'pert')\n",
    "      concIni <- concIni+0.15 # That was added with the perturbation\n",
    "      newVec[pos] <- (concIni - concFin)/(concIni)\n",
    "    } # end-if\n",
    "  } # end-for pos\n",
    "  sample_data(data.norm)[sample_names(vecConc), goalVar] <- newVec\n",
    "} # end-for isubject\n",
    "# Check: 0 in T1 and T6: get_variable(data.norm,'AtrazineDegradation')\n",
    "\n",
    "# To filter samples from state before and after the perturbation (seq T2 and T3)\n",
    "data.norm=subset_samples(data.norm, seqId %in% c('00002','00003','00004','00005'))\n",
    "\n"
   ]
  },
  {
   "cell_type": "code",
   "execution_count": null,
   "metadata": {},
   "outputs": [],
   "source": [
    "print('>> Utility Function by state:')\n",
    "# Print computed values about change in utility function;\n",
    "# here, a metabolite concentration\n",
    "for (state in levels(sample_data(data.norm)$cluster)){\n",
    "  ss=subset_samples(data.norm,cluster==state)\n",
    "  avg=mean(get_variable(ss,goalVar))\n",
    "  print(paste(goalVar,state,':',avg))\n",
    "} # end-for state"
   ]
  },
  {
   "cell_type": "code",
   "execution_count": null,
   "metadata": {},
   "outputs": [],
   "source": [
    "print('>> Utility Function by perturbation:')\n",
    "sample_data(data.norm)$pert=as.factor(sample_data(data.norm)$pert)\n",
    "for (p in levels(sample_data(data.norm)$pert)){\n",
    "  ss=subset_samples(data.norm,(pert==p))\n",
    "  avg=mean(get_variable(ss,goalVar))\n",
    "  print(paste(p,'(',nsamples(ss), 'samples)',':',avg))\n",
    "} # end-for perturbation"
   ]
  },
  {
   "cell_type": "code",
   "execution_count": null,
   "metadata": {},
   "outputs": [],
   "source": [
    "###USER-INTERACTION###\n",
    "# To assign cluster preferences if expert knowledge available\n",
    "# We assign cluster preferences: 8 states\n",
    "#cluster_preference <- c(0,0,0,1,0,0,0,0)\n",
    "# Because it has the higher Atrazine degradation."
   ]
  },
  {
   "cell_type": "code",
   "execution_count": null,
   "metadata": {},
   "outputs": [],
   "source": [
    "# Compute vector of states (i.e. cluster) preferences\n",
    "states <- levels(sample_data(data.norm)$cluster)\n",
    "goal_preference <- sapply(states, clusterUtilityFunction)\n",
    "cluster_preference <- goal_preference"
   ]
  },
  {
   "cell_type": "code",
   "execution_count": null,
   "metadata": {},
   "outputs": [],
   "source": [
    "save(data.norm,goal_preference,file='data.normAfterConfigMDPbiomePreprocess.RData')\n",
    "tableSerie <- stateSerieTable(data.norm, stepVar, subjectId = subjectVar)\n",
    "timeSerieHeatMap(tableSerie, \"./\", \"statesSequence_allSamples.pdf\")"
   ]
  },
  {
   "cell_type": "code",
   "execution_count": null,
   "metadata": {},
   "outputs": [],
   "source": [
    "createTreeDir(dirdata,Perturbations)\n",
    "options(max.print = 9999999)\n",
    "# Build model and compute stability evaluation\n",
    "mdpBiomeBase(goalDiversity=FALSE, utilityVar=goalVar) "
   ]
  },
  {
   "cell_type": "code",
   "execution_count": null,
   "metadata": {},
   "outputs": [],
   "source": [
    "###USER-INTERACTION###\n",
    "# Compute generality evaluation\n",
    "# It is mandatory to define rewardType (\"preferGood\", \"avoidBad\" or \"proportional\")\n",
    "mdpBiomeLoocv(goal_preference=cluster_preference,rewardType=\"preferGood\",goalVar=goalVar)\n",
    "# It usually takes a long time to finish, mainly depending on the number of subjects"
   ]
  },
  {
   "cell_type": "code",
   "execution_count": null,
   "metadata": {},
   "outputs": [],
   "source": [
    "# ALTERNATIVE RUN\n",
    "### Re-run MDPbiome, when the preprocess R data was saved before\n",
    "setwd('../Src')\n",
    "source(\"initMDPBiome.R\")\n",
    "dirdata <- \"../Data/\"\n",
    "titledata <- \"Atrazine\"\n",
    "setwd(dirdata)\n",
    "load('data.normAfterConfigMDPbiomePreprocess.RData')\n",
    "Perturbations <- c('pert')\n",
    "stepVar <- \"time\"\n",
    "subjectVar <- \"subject\"\n",
    "cluster_preference <- goal_preference\n",
    "createTreeDir(dirdata,Perturbations)\n",
    "options(max.print = 9999999)\n",
    "mdpBiomeBase(goalDiversity=FALSE, utilityVar=goalVar)\n"
   ]
  }
 ],
 "metadata": {
  "kernelspec": {
   "display_name": "R",
   "language": "R",
   "name": "ir"
  },
  "language_info": {
   "codemirror_mode": "r",
   "file_extension": ".r",
   "mimetype": "text/x-r-source",
   "name": "R",
   "pygments_lexer": "r",
   "version": "3.4.4"
  }
 },
 "nbformat": 4,
 "nbformat_minor": 2
}
