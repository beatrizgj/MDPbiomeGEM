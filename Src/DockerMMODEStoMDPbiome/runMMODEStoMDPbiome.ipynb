{
 "cells": [
  {
   "cell_type": "code",
   "execution_count": null,
   "metadata": {},
   "outputs": [],
   "source": [
    "# REQUIRED INPUT (should be in the <labelExp> directory)\n",
    "# - Output files of MMODES (multiple timeseries) with the prefix\n",
    "# 'biomass_*.tsv', with columns separated by TABs.\n",
    "# If not, to fix them (see commands below) before running the notebook.\n",
    "# - tax_table.tsv, with one row per strain in the community, and \n",
    "# one column per taxonomic level"
   ]
  },
  {
   "cell_type": "code",
   "execution_count": null,
   "metadata": {},
   "outputs": [],
   "source": [
    "###USER-INTERACTION###\n",
    "# Cells with this header require user interaction, or adaptation \n",
    "# of the code to the specific case study."
   ]
  },
  {
   "cell_type": "code",
   "execution_count": null,
   "metadata": {},
   "outputs": [],
   "source": [
    "# Load packages and functions\n",
    "source(\"initMMODEStoMDPbiome.R\")"
   ]
  },
  {
   "cell_type": "code",
   "execution_count": null,
   "metadata": {},
   "outputs": [],
   "source": [
    "###USER-INTERACTION###\n",
    "# To define a label that identifies files from this case study\n",
    "labelExp='CommunityExample'\n",
    "setwd(labelExp)"
   ]
  },
  {
   "cell_type": "code",
   "execution_count": null,
   "metadata": {},
   "outputs": [],
   "source": [
    "###USER-INTERACTION###\n",
    "# Some useful commands are commented, that could be uncommented \n",
    "# if they are required.\n",
    "# A.-To rename output files:\n",
    "#folderList=list.files(pattern=\"atr2\\\\..*\")\n",
    "#lapply(folderList, rename.biomass.file, 'atr2.')\n",
    "# B.- To replace comma by TAB\n",
    "#system(\"sh scriptCommaToTab.sh\")"
   ]
  },
  {
   "cell_type": "code",
   "execution_count": null,
   "metadata": {},
   "outputs": [],
   "source": [
    "# Read biomass tables from MMODES\n",
    "#file = list.files(pattern=\"biomass\\\\_[[:alnum:]]+\\\\.tsv\")\n",
    "file = list.files(pattern=\"^biomass\\\\_.*\\\\.tsv$\")\n",
    "# Add subject and sample ID per table\n",
    "tables.list=lapply(file, process.one.biomass.file)\n",
    "# Concatenate all biomass data.frames (one per subject) in a unique one\n",
    "table.all=rbind.with.rownames(tables.list)\n",
    "# Save\n",
    "biomasses=table.all\n",
    "save(biomasses,file='allTimeSeries_biomass.RData')\n",
    "write.table(biomasses,file='allTimeSeries_biomass.tsv',sep='\\t',quote=FALSE)"
   ]
  },
  {
   "cell_type": "code",
   "execution_count": null,
   "metadata": {},
   "outputs": [],
   "source": [
    "# Generate taxonomy table in file 'taxtable.tsv': OTU id + 7 rank\n",
    "taxmat=read.table('taxtable.tsv',sep=\"\\t\",header=TRUE)\n",
    "colnames(taxmat) <- c(\"Kingdom\", \"Phylum\", \"Class\", \"Order\", \"Family\", \"Genus\", \"Species\")\n",
    "#complete.tax.table(taxmat,\"Species\")\n",
    "num.strains=nrow(taxmat)\n",
    "# Generate OTU table: id + biomass columns (depending on number of strains)\n",
    "pos.pert.column=grep('Perturbations',colnames(biomasses))\n",
    "num.metabolites=pos.pert.column-num.strains-1\n",
    "otu.table.df=subset(biomasses, select=c(1:num.strains))\n",
    "# Generate mapping table: all, except to biomasses\n",
    "mapping.table.df=subset(biomasses, select=c((num.strains+1):ncol(biomasses)))\n",
    "mapping.table.df$time=as.numeric(mapping.table.df$time)"
   ]
  },
  {
   "cell_type": "code",
   "execution_count": null,
   "metadata": {},
   "outputs": [],
   "source": [
    "# Build phyloseq object\n",
    "otumat <- t(otu.table.df)\n",
    "OTU = otu_table(otumat, taxa_are_rows = TRUE)\n",
    "mapmat <- mapping.table.df\n",
    "MAP = sample_data(mapmat)\n",
    "TAX = tax_table(as.matrix(taxmat))\n",
    "## If not complete tax_table levesls:\n",
    "# taxmat = matrix(nrow=ntaxa(OTU),ncol=7)\n",
    "# rownames(taxmat) <- taxa_names(OTU)\n",
    "# taxmat = complete.tax.table(taxmat,\"Species\")\n",
    "data = phyloseq(OTU, TAX, MAP)\n",
    "save(data,file='phyloseqObject.RData')"
   ]
  },
  {
   "cell_type": "code",
   "execution_count": null,
   "metadata": {},
   "outputs": [],
   "source": [
    "# Get relative abundances\n",
    "data.norm <- transform_sample_counts(data, function(x) x / sum(x) )\n",
    "save(data.norm,file='data.norm_phyloseqObject.RData')"
   ]
  },
  {
   "cell_type": "code",
   "execution_count": null,
   "metadata": {},
   "outputs": [],
   "source": [
    "load('data.norm_phyloseqObject.RData')\n",
    "data.norm.sub=subset_samples(data.norm,Perturbations!=FALSE)\n",
    "###USER-INTERACTION###\n",
    "# Next line: to be commented in 'Atrazine' case study, not to remove the initial samples with 'START': Because the initial points is also required, to compute the amount of atrazine degradation in the initial state\n",
    "data.norm.sub=subset_samples(data.norm.sub,Perturbations!='START')\n",
    "#\n",
    "data.norm=data.norm.sub # Robust clustering need the object is called data.norm!!!\n",
    "save(data.norm,file='data.norm.sub_phyloseqObject.RData')\n",
    "pdf('barplot_sampleWithPert_Phylum.pdf',width=30)\n",
    "plot_bar(data.norm,fill='Phylum')\n",
    "dev.off()\n",
    "pdf('barplot_sampleWithPert_Species.pdf',width=30)\n",
    "plot_bar(data.norm,fill='Species')\n",
    "dev.off()"
   ]
  },
  {
   "cell_type": "code",
   "execution_count": null,
   "metadata": {},
   "outputs": [],
   "source": [
    "###USER-INTERACTION###\n",
    "# Space for ad-hoc adjustment to the samples in the current case study, \n",
    "# before applying clustering to identify microbiome states\n",
    "# It could be not required in many case studies\n",
    "\n",
    "## Example of adjustment for soil microbiome case:\n",
    "## Add a new variable, to differentiate sample of the same subject by its position in the time series, i.e. the sequence ID\n",
    "#load('data.norm.sub_phyloseqObject.RData')\n",
    "#for(sample in sample_names(data.norm)){\n",
    "#  seq=unlist(strsplit(sample,'_'))[3]\n",
    "#  sample_data(data.norm)[sample,'seqId'] <- seq\n",
    "#}\n",
    "## To filter samples from state before and after the perturbation (seq T2 to T5).\n",
    "#data.norm=subset_samples(data.norm, seqId %in% c('00002','00003','00004','00005'))\n",
    "#save(data.norm,file='data.norm.sub_phyloseqObject.RData')\n",
    "\n",
    "#pdf('barplot_sampleWithPert_Phylum.pdf',width=30)\n",
    "#plot_bar(data.norm,fill='Phylum')\n",
    "#dev.off()\n",
    "#pdf('barplot_sampleWithPert_Species.pdf',width=30)\n",
    "#plot_bar(data.norm,fill='Species')\n",
    "#dev.off()"
   ]
  },
  {
   "cell_type": "code",
   "execution_count": null,
   "metadata": {},
   "outputs": [],
   "source": [
    "setwd('..')"
   ]
  }
 ],
 "metadata": {
  "kernelspec": {
   "display_name": "R",
   "language": "R",
   "name": "ir"
  },
  "language_info": {
   "codemirror_mode": "r",
   "file_extension": ".r",
   "mimetype": "text/x-r-source",
   "name": "R",
   "pygments_lexer": "r",
   "version": "3.4.4"
  }
 },
 "nbformat": 4,
 "nbformat_minor": 2
}
